{
 "cells": [
  {
   "cell_type": "code",
   "execution_count": 251,
   "metadata": {},
   "outputs": [],
   "source": [
    "\n",
    "\n",
    "import qiskit\n",
    "import numpy as np\n",
    "from qiskit import(\n",
    "    IBMQ, QuantumCircuit, ClassicalRegister, QuantumRegister, execute,\n",
    "    QuantumCircuit,\n",
    "    execute,\n",
    "    Aer)\n",
    "from qiskit.visualization import plot_histogram, plot_state_city\n"
   ]
  },
  {
   "cell_type": "code",
   "execution_count": 243,
   "metadata": {},
   "outputs": [],
   "source": [
    "def increment_gate(circuit, qpos, qcoin):\n",
    "    n = len(qpos)\n",
    "    for i in range(n):\n",
    "        circuit.mct([qcoin[0]]+qpos[i+1:], qpos[i], None, mode='noancilla')\n",
    "        circuit.barrier()\n",
    "\n",
    "def decrement_gate(circuit, qpos, qcoin):\n",
    "    n = len(qpos)\n",
    "    for i in range(n):\n",
    "        if i+1 < n:\n",
    "            circuit.x(qpos[i+1:])\n",
    "        circuit.x(qcoin[0])\n",
    "        circuit.mct([qcoin[0]]+qpos[i+1:], qpos[i], None, mode='noancilla')\n",
    "        circuit.barrier()\n",
    "\n",
    "def step(circuit, qpos, qcoin):\n",
    "    circuit.h(qcoin)\n",
    "#     circuit.x(qcoin)\n",
    "    increment_gate(circuit, qpos, qcoin)\n",
    "    decrement_gate(circuit, qpos, qcoin)\n"
   ]
  },
  {
   "cell_type": "code",
   "execution_count": 245,
   "metadata": {
    "scrolled": false
   },
   "outputs": [
    {
     "name": "stdout",
     "output_type": "stream",
     "text": [
      "\n",
      "Total count for 00 and 11 are: {'00': 1000}\n"
     ]
    },
    {
     "data": {
      "text/html": [
       "<pre style=\"word-wrap: normal;white-space: pre;background: #fff0;line-height: 1.1;font-family: &quot;Courier New&quot;,Courier,monospace\">                ┌───┐ ░       ░      ┌───┐ ░            ░      ┌───┐ ░       ░ »\n",
       "  qc_0: |0>─────┤ X ├─░───────░──────┤ X ├─░────────────░──────┤ X ├─░───────░─»\n",
       "                └─┬─┘ ░ ┌───┐ ░ ┌───┐└─┬─┘ ░      ┌───┐ ░      └─┬─┘ ░ ┌───┐ ░ »\n",
       "  qc_1: |0>───────■───░─┤ X ├─░─┤ X ├──■───░──────┤ X ├─░────────■───░─┤ X ├─░─»\n",
       "           ┌───┐  │   ░ └─┬─┘ ░ ├───┤  │   ░ ┌───┐└─┬─┘ ░ ┌───┐  │   ░ └─┬─┘ ░ »\n",
       "qanc_0: |0>┤ X ├──■───░───■───░─┤ X ├──■───░─┤ X ├──■───░─┤ X ├──■───░───■───░─»\n",
       "           └───┘      ░       ░ └───┘      ░ └───┘      ░ └───┘      ░       ░ »\n",
       "   cr_0: 0 ════════════════════════════════════════════════════════════════════»\n",
       "                                                                               »\n",
       "   cr_1: 0 ════════════════════════════════════════════════════════════════════»\n",
       "                                                                               »\n",
       "«             ┌───┐ ░            ░ ┌─┐   \n",
       "«  qc_0: ─────┤ X ├─░────────────░─┤M├───\n",
       "«        ┌───┐└─┬─┘ ░      ┌───┐ ░ └╥┘┌─┐\n",
       "«  qc_1: ┤ X ├──■───░──────┤ X ├─░──╫─┤M├\n",
       "«        ├───┤  │   ░ ┌───┐└─┬─┘ ░  ║ └╥┘\n",
       "«qanc_0: ┤ X ├──■───░─┤ X ├──■───░──╫──╫─\n",
       "«        └───┘      ░ └───┘      ░  ║  ║ \n",
       "«  cr_0: ═══════════════════════════╩══╬═\n",
       "«                                      ║ \n",
       "«  cr_1: ══════════════════════════════╩═\n",
       "«                                        </pre>"
      ],
      "text/plain": [
       "<qiskit.visualization.text.TextDrawing at 0x132947550>"
      ]
     },
     "execution_count": 245,
     "metadata": {},
     "output_type": "execute_result"
    }
   ],
   "source": [
    "n=2\n",
    "\n",
    "simulator = Aer.get_backend('qasm_simulator')\n",
    "\n",
    "qpos = QuantumRegister(n,'qc')\n",
    "qcoin = QuantumRegister(1,'qanc')\n",
    "cpos = ClassicalRegister(n,'cr')\n",
    "\n",
    "circuit = QuantumCircuit(qpos, qcoin, cpos)\n",
    "\n",
    "# increment_gate(circuit, qpos, )\n",
    "\n",
    "# # Map the quantum measurement to the classical bits\n",
    "circuit.measure(qpos,cpos)\n",
    "\n",
    "# # Execute the circuit on the qasm simulator\n",
    "job = execute(circuit, simulator, shots=1000)\n",
    "\n",
    "# # Grab results from the job\n",
    "result = job.result()\n",
    "\n",
    "# # Returns counts\n",
    "counts = result.get_counts(circuit)\n",
    "print(\"\\nTotal count for 00 and 11 are:\",counts)\n",
    "\n",
    "# Draw the circuit\n",
    "circuit.draw()"
   ]
  },
  {
   "cell_type": "code",
   "execution_count": 246,
   "metadata": {},
   "outputs": [
    {
     "data": {
      "image/png": "[encoded data removed]",
      "text/plain": [
       "<Figure size 504x360 with 1 Axes>"
      ]
     },
     "execution_count": 246,
     "metadata": {},
     "output_type": "execute_result"
    }
   ],
   "source": [
    "# Plot a histogram\n",
    "\n",
    "\n",
    "plot_histogram(counts)"
   ]
  },
  {
   "cell_type": "code",
   "execution_count": 76,
   "metadata": {},
   "outputs": [],
   "source": [
    "l = [0,1,2,3]"
   ]
  },
  {
   "cell_type": "code",
   "execution_count": 77,
   "metadata": {},
   "outputs": [
    {
     "ename": "SyntaxError",
     "evalue": "invalid syntax (<ipython-input-77-2e47622e4956>, line 1)",
     "output_type": "error",
     "traceback": [
      "\u001b[0;36m  File \u001b[0;32m\"<ipython-input-77-2e47622e4956>\"\u001b[0;36m, line \u001b[0;32m1\u001b[0m\n\u001b[0;31m    l[]\u001b[0m\n\u001b[0m      ^\u001b[0m\n\u001b[0;31mSyntaxError\u001b[0m\u001b[0;31m:\u001b[0m invalid syntax\n"
     ]
    }
   ],
   "source": []
  },
  {
   "cell_type": "code",
   "execution_count": null,
   "metadata": {},
   "outputs": [],
   "source": []
  }
 ],
 "metadata": {
  "kernelspec": {
   "display_name": "Python 3",
   "language": "python",
   "name": "python3"
  },
  "language_info": {
   "codemirror_mode": {
    "name": "ipython",
    "version": 3
   },
   "file_extension": ".py",
   "mimetype": "text/x-python",
   "name": "python",
   "nbconvert_exporter": "python",
   "pygments_lexer": "ipython3",
   "version": "3.7.6"
  }
 },
 "nbformat": 4,
 "nbformat_minor": 4
}
