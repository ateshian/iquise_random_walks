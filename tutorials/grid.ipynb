{
 "cells": [
  {
   "cell_type": "code",
   "execution_count": 1,
   "metadata": {},
   "outputs": [],
   "source": [
    "import qiskit\n",
    "import numpy as np\n",
    "from qiskit import(\n",
    "    IBMQ, QuantumCircuit, ClassicalRegister, QuantumRegister, execute,\n",
    "    QuantumCircuit,\n",
    "    execute,\n",
    "    Aer)\n",
    "from qiskit.visualization import plot_histogram, plot_state_city\n"
   ]
  },
  {
   "cell_type": "code",
   "execution_count": 27,
   "metadata": {},
   "outputs": [],
   "source": [
    "l = [0,1,2,3]"
   ]
  },
  {
   "cell_type": "code",
   "execution_count": 83,
   "metadata": {},
   "outputs": [
    {
     "data": {
      "text/plain": [
       "[Qubit(QuantumRegister(2, 'qanc'), 0),\n",
       " Qubit(QuantumRegister(2, 'qanc'), 1),\n",
       " Qubit(QuantumRegister(4, 'qc'), 0),\n",
       " Qubit(QuantumRegister(4, 'qc'), 1),\n",
       " Qubit(QuantumRegister(4, 'qc'), 2),\n",
       " Qubit(QuantumRegister(4, 'qc'), 3)]"
      ]
     },
     "execution_count": 83,
     "metadata": {},
     "output_type": "execute_result"
    }
   ],
   "source": [
    "qcoin[:]+qpos[0:]"
   ]
  },
  {
   "cell_type": "code",
   "execution_count": 136,
   "metadata": {},
   "outputs": [],
   "source": [
    "def increment_gate(circuit, qpos, qcoin):\n",
    "    n = len(qpos)\n",
    "    for i in range(n):\n",
    "        circuit.mct(qcoin[:]+qpos[i+1:], qpos[i], None, mode='noancilla')\n",
    "#     print(\"+\")\n",
    "\n",
    "def decrement_gate(circuit, qpos, qcoin):\n",
    "    n = len(qpos)\n",
    "#     print(n)\n",
    "    for i in range(n):\n",
    "        if i+1 < n: circuit.x(qpos[i+1:])\n",
    "        circuit.mct(qcoin[:]+qpos[i+1:], qpos[i], None, mode='noancilla')\n",
    "        if i+1 < n: circuit.x(qpos[i+1:])\n",
    "#     print(\"-\")\n",
    "    \n",
    "def step(circuit, qpos, qcoin):\n",
    "    circuit.h(qcoin)\n",
    "    circuit.barrier()\n",
    "    # y operations\n",
    "    increment_gate(circuit, qpos[len(qpos)//2:], qcoin)\n",
    "    circuit.x(qcoin[0])\n",
    "    decrement_gate(circuit, qpos[len(qpos)//2:], qcoin)\n",
    "    # x operations\n",
    "    circuit.x(qcoin)\n",
    "    increment_gate(circuit, qpos[:len(qpos)//2], qcoin)\n",
    "    circuit.x(qcoin[0])\n",
    "    decrement_gate(circuit, qpos[:len(qpos)//2:], qcoin)\n",
    "    circuit.barrier()\n"
   ]
  },
  {
   "cell_type": "code",
   "execution_count": 149,
   "metadata": {
    "scrolled": false
   },
   "outputs": [
    {
     "name": "stdout",
     "output_type": "stream",
     "text": [
      "\n",
      "Total count for 00 and 11 are: {'000100': 240, '111000': 267, '000111': 231, '100000': 262}\n"
     ]
    }
   ],
   "source": [
    "simulator = Aer.get_backend('qasm_simulator')\n",
    "\n",
    "n=3\n",
    "\n",
    "qpos = QuantumRegister(2*n,'qc')\n",
    "qcoin = QuantumRegister(2,'qanc')\n",
    "\n",
    "cpos = ClassicalRegister(2*n,'cr')\n",
    "\n",
    "circuit = QuantumCircuit(qpos, qcoin, cpos)\n",
    "\n",
    "step(circuit, qpos, qcoin)\n",
    "# step(circuit, qpos, qcoin)\n",
    "\n",
    "# # Map the quantum measurement to the classical bits\n",
    "circuit.measure(qpos,cpos)\n",
    "\n",
    "# # Execute the circuit on the qasm simulator\n",
    "job = execute(circuit, simulator, shots=1000)\n",
    "\n",
    "# # Grab results from the job\n",
    "result = job.result()\n",
    "\n",
    "# # Returns counts\n",
    "counts = result.get_counts(circuit)\n",
    "print(\"\\nTotal count for 00 and 11 are:\",counts)\n",
    "\n",
    "# Draw the circuit\n",
    "# circuit.draw()"
   ]
  },
  {
   "cell_type": "code",
   "execution_count": 150,
   "metadata": {},
   "outputs": [
    {
     "data": {
      "image/png": "[encoded data removed]",
      "text/plain": [
       "<Figure size 504x360 with 1 Axes>"
      ]
     },
     "execution_count": 150,
     "metadata": {},
     "output_type": "execute_result"
    }
   ],
   "source": [
    "# Plot a histogram\n",
    "\n",
    "\n",
    "plot_histogram(counts)"
   ]
  },
  {
   "cell_type": "code",
   "execution_count": 3,
   "metadata": {},
   "outputs": [],
   "source": [
    "import numpy as np"
   ]
  },
  {
   "cell_type": "code",
   "execution_count": 4,
   "metadata": {},
   "outputs": [],
   "source": [
    "l = [0,2,3]"
   ]
  },
  {
   "cell_type": "code",
   "execution_count": 5,
   "metadata": {},
   "outputs": [],
   "source": [
    "lp = np.array([0,2,3])"
   ]
  },
  {
   "cell_type": "code",
   "execution_count": 9,
   "metadata": {},
   "outputs": [
    {
     "data": {
      "text/plain": [
       "array([0.  , 1.94, 2.91])"
      ]
     },
     "execution_count": 9,
     "metadata": {},
     "output_type": "execute_result"
    }
   ],
   "source": [
    "0.97*lp"
   ]
  },
  {
   "cell_type": "code",
   "execution_count": null,
   "metadata": {},
   "outputs": [],
   "source": []
  }
 ],
 "metadata": {
  "kernelspec": {
   "display_name": "Python 3",
   "language": "python",
   "name": "python3"
  },
  "language_info": {
   "codemirror_mode": {
    "name": "ipython",
    "version": 3
   },
   "file_extension": ".py",
   "mimetype": "text/x-python",
   "name": "python",
   "nbconvert_exporter": "python",
   "pygments_lexer": "ipython3",
   "version": "3.7.6"
  }
 },
 "nbformat": 4,
 "nbformat_minor": 4
}
