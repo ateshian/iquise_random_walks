{
 "cells": [
  {
   "cell_type": "code",
   "execution_count": 55,
   "metadata": {},
   "outputs": [
    {
     "name": "stderr",
     "output_type": "stream",
     "text": [
      "Credentials are already in use. The existing account in the session will be replaced.\n"
     ]
    }
   ],
   "source": [
    "import numpy as np\n",
    "import time\n",
    "import networkx as nx\n",
    "import matplotlib.pyplot as plt\n",
    "import random\n",
    "from qiskit import (QuantumCircuit, QuantumRegister, ClassicalRegister, execute, Aer)\n",
    "%matplotlib qt\n",
    "from qiskit import IBMQ\n",
    "from qiskit.tools.monitor import job_monitor\n",
    "IBMQ.load_account()\n",
    "IBMQ.providers()\n",
    "provider = IBMQ.get_provider(group='open')"
   ]
  },
  {
   "cell_type": "code",
   "execution_count": 56,
   "metadata": {},
   "outputs": [],
   "source": [
    "steps = 3\n",
    "n=2"
   ]
  },
  {
   "cell_type": "code",
   "execution_count": 57,
   "metadata": {},
   "outputs": [],
   "source": [
    "def counts_to_prob_1d(counts):\n",
    "    # Convert histogram counts to probability vector of size 1 x 2^n\n",
    "    states = list(counts.keys())\n",
    "    state_counts = list(counts.values())\n",
    "    nshots = sum(state_counts)\n",
    "    # Convert binary to integer index, reversing order as consistent w qiskit convention\n",
    "    states_x = [int(s[::-1],2) for s in states]\n",
    "    # Create array of probability values\n",
    "    probabilities = np.zeros(2**n)\n",
    "    probabilities[states_x] = state_counts\n",
    "    probabilities /= nshots\n",
    "    return probabilities"
   ]
  },
  {
   "cell_type": "code",
   "execution_count": 58,
   "metadata": {},
   "outputs": [],
   "source": [
    "def increment_gate(circuit, qpos, qcoin):\n",
    "    n = len(qpos)\n",
    "    for i in range(n):\n",
    "        circuit.mct([qcoin[0]]+qpos[i+1:], qpos[i], None, mode='noancilla')\n",
    "        \n",
    "def decrement_gate(circuit, qpos, qcoin):\n",
    "    n = len(qpos)\n",
    "    circuit.x(qcoin[0])\n",
    "    for i in range(n):\n",
    "        if i+1 < n: circuit.x(qpos[i+1:])\n",
    "        circuit.mct([qcoin[0]]+qpos[i+1:], qpos[i], None, mode='noancilla')\n",
    "        if i+1 < n: circuit.x(qpos[i+1:])\n",
    "            \n",
    "def step(circuit, qpos, qcoin):\n",
    "    circuit.h(qcoin)\n",
    "    circuit.barrier()\n",
    "    increment_gate(circuit, qpos, qcoin)\n",
    "    circuit.barrier()\n",
    "    decrement_gate(circuit, qpos, qcoin)\n",
    "    circuit.barrier()\n",
    "\n",
    "def run(steps):\n",
    "    #simulator = Aer.get_backend('qasm_simulator')\n",
    "    simulator = provider.get_backend('ibmq_5_yorktown')\n",
    "    qpos = QuantumRegister(n,'qc')\n",
    "    qcoin = QuantumRegister(1,'qanc')\n",
    "    cpos = ClassicalRegister(n,'cr')\n",
    "    circuit = QuantumCircuit(qpos, qcoin, cpos)\n",
    "    for i in range(steps):\n",
    "        step(circuit, qpos, qcoin)\n",
    "    # # Map the quantum measurement to the classical bits\n",
    "    circuit.measure(qpos,cpos)\n",
    "    # # Execute the circuit on the qasm simulator\n",
    "    job = execute(circuit, simulator, shots=1000)\n",
    "    # # monitor job\n",
    "    job_monitor(job)\n",
    "    # # Grab results from the job\n",
    "    result = job.result()\n",
    "    # # Returns counts\n",
    "    counts = result.get_counts(circuit)\n",
    "    return counts"
   ]
  },
  {
   "cell_type": "code",
   "execution_count": 59,
   "metadata": {},
   "outputs": [],
   "source": [
    "seed = 12\n",
    "random.seed(seed)\n",
    "np.random.seed(seed)\n",
    "def plotCircleGraph(propabilities):\n",
    "    G = nx.Graph()\n",
    "    colorarray = []\n",
    "    # generate array of colors\n",
    "    numProp = len(propabilities)\n",
    "    for idx in range(numProp):\n",
    "        colorarray.append([1-prop[idx],1-prop[idx],1])\n",
    "    # generate graph\n",
    "    for idx in range(numProp-1):\n",
    "        G.add_edge(idx, idx+1)\n",
    "    # add last edge\n",
    "    G.add_edge(0,numProp-1)\n",
    "    nx.draw(G,pos=nx.circular_layout(G),node_color = colorarray,cmap=plt.cm.Blues)"
   ]
  },
  {
   "cell_type": "code",
   "execution_count": 60,
   "metadata": {},
   "outputs": [
    {
     "name": "stdout",
     "output_type": "stream",
     "text": [
      "Job Status: job has successfully run\n",
      "Job Status: job has successfully run\n",
      "Job Status: job has successfully run\n",
      "Job Status: job has successfully run\n"
     ]
    }
   ],
   "source": [
    "for i in range(steps+1):\n",
    "    counts = run(i)\n",
    "    prop = counts_to_prob_1d(counts)\n",
    "    plotCircleGraph(prop)\n",
    "    plt.pause(0.3)\n",
    "    plt.close()"
   ]
  },
  {
   "cell_type": "code",
   "execution_count": null,
   "metadata": {},
   "outputs": [],
   "source": []
  },
  {
   "cell_type": "code",
   "execution_count": null,
   "metadata": {},
   "outputs": [],
   "source": []
  }
 ],
 "metadata": {
  "kernelspec": {
   "display_name": "Python 3",
   "language": "python",
   "name": "python3"
  },
  "language_info": {
   "codemirror_mode": {
    "name": "ipython",
    "version": 3
   },
   "file_extension": ".py",
   "mimetype": "text/x-python",
   "name": "python",
   "nbconvert_exporter": "python",
   "pygments_lexer": "ipython3",
   "version": "3.7.4"
  }
 },
 "nbformat": 4,
 "nbformat_minor": 2
}
