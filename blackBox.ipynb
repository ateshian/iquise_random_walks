{
 "cells": [
  {
   "cell_type": "code",
   "execution_count": 1,
   "metadata": {},
   "outputs": [],
   "source": [
    "# Library for implementing XOR\n",
    "import qiskit\n",
    "import numpy as np\n",
    "from qiskit import(\n",
    "    IBMQ, QuantumCircuit, ClassicalRegister, QuantumRegister, execute,\n",
    "    QuantumCircuit,\n",
    "    execute,\n",
    "    Aer)\n",
    "from qiskit.visualization import plot_histogram, plot_state_city"
   ]
  },
  {
   "cell_type": "code",
   "execution_count": 2,
   "metadata": {},
   "outputs": [],
   "source": [
    "if __name__ == \"__main__\":\n",
    "    pass"
   ]
  },
  {
   "cell_type": "code",
   "execution_count": 28,
   "metadata": {},
   "outputs": [],
   "source": [
    "def binary_it(alpha):\n",
    "    ''' binary_it:\n",
    "            returns a list that is indexed according to power,\n",
    "                binaried[0] = is LSB.\n",
    "    '''\n",
    "    binaried = [int(x) for x in bin(alpha)[2:]]\n",
    "    binaried.reverse()\n",
    "    return binaried\n",
    "\n",
    "def invert(alpha):\n",
    "    return [ 1 - x for x in alpha]\n",
    "    \n",
    "def xor_gate_v_each(circuit,   a,b,r,   v,c,a0):\n",
    "    ''' xor_gate_v_each:\n",
    "            See paper 'An Example of the Difference Between Quantum and Classical Random Walks'\n",
    "        \n",
    "            args:\n",
    "                circuit -- the py object that holds the quantum circuit.\n",
    "                \n",
    "                a -- q. reg. for the vertex.\n",
    "                b -- q. reg. for holding neighbor vertex.\n",
    "                r -- q. reg. for checking valid edge.\n",
    "                \n",
    "                f(c, a0) -- function that returns the neighboring\n",
    "                         -- vertex of a0 using label c for the vertex label.\n",
    "                c        -- label of the edge\n",
    "                a0       -- label of the vertex\n",
    "    '''\n",
    "    \n",
    "    vc = v(c,a0);\n",
    "    #vc = 1\n",
    "    \n",
    "    #build in the not's for the a0 check.\n",
    "    binaried = binary_it(a0)\n",
    "        \n",
    "    #match binaried\n",
    "    if len(binaried) > len(a):\n",
    "        binaried = binaried[:len(a)]\n",
    "    elif len(a) > len(binaried):\n",
    "        for i in range(len(a)-len(binaried)):\n",
    "            binaried.append(0)\n",
    "    \n",
    "    notMask = invert(binaried)\n",
    "    \n",
    "    for i in range(len(notMask)):\n",
    "        if notMask[i]:\n",
    "            circuit.x(a[i]);\n",
    "    \n",
    "    \n",
    "    #build in the cnots for xoring b\n",
    "    binaried = binary_it(vc)\n",
    "        \n",
    "    #match binaried\n",
    "    if len(binaried) > len(a):\n",
    "        binaried = binaried[:len(a)]\n",
    "    elif len(a) > len(binaried):\n",
    "        for i in range(len(a)-len(binaried)):\n",
    "            binaried.append(0)\n",
    "    \n",
    "    for i in range(len(binaried)):\n",
    "        if binaried[i]:\n",
    "            circuit.mct(a,b[i], None, mode='noancilla')\n",
    "        \n",
    "    #build in the not's for the a0 return.\n",
    "    for i in range(len(notMask)):\n",
    "        if notMask[i]:\n",
    "            circuit.x(a[i]);\n",
    "\n",
    "def xor_gate_f_each(circuit,   a,b,r,   v,c,a0):\n",
    "    ''' xor_gate_v_each:\n",
    "            See paper 'An Example of the Difference Between Quantum and Classical Random Walks'\n",
    "        \n",
    "            args:\n",
    "                circuit -- the py object that holds the quantum circuit.\n",
    "                \n",
    "                a -- q. reg. for the vertex.\n",
    "                b -- q. reg. for holding neighbor vertex.\n",
    "                r -- q. reg. for checking valid edge.\n",
    "                \n",
    "                f(c, a0) -- function that returns the neighboring\n",
    "                         -- vertex of a0 using label c for the vertex label.\n",
    "                c        -- label of the edge\n",
    "                a0       -- label of the vertex\n",
    "    '''\n",
    "    \n",
    "    fc = f(c,a0);\n",
    "    #fc = 1\n",
    "    \n",
    "    #build in the not's for the a0 check.\n",
    "    binaried = binary_it(a0)\n",
    "        \n",
    "    #match binaried\n",
    "    if len(binaried) > len(a):\n",
    "        binaried = binaried[:len(a)]\n",
    "    elif len(a) > len(binaried):\n",
    "        for i in range(len(a)-len(binaried)):\n",
    "            binaried.append(0)\n",
    "    \n",
    "    notMask = invert(binaried)\n",
    "    \n",
    "    for i in range(len(notMask)):\n",
    "        if notMask[i]:\n",
    "            circuit.x(a[i]);\n",
    "    \n",
    "    \n",
    "    #build in the cnots for xoring b\n",
    "    binaried = binary_it(fc)\n",
    "        \n",
    "    #match binaried\n",
    "    if len(binaried) > len(r):\n",
    "        binaried = binaried[:len(r)]\n",
    "    elif len(r) > len(binaried):\n",
    "        for i in range(len(r)-len(binaried)):\n",
    "            binaried.append(0)\n",
    "    \n",
    "    for i in range(len(binaried)):\n",
    "        if binaried[i]:\n",
    "            circuit.mct(a,r[i], None, mode='noancilla')\n",
    "        \n",
    "    #build in the not's for the a0 return.\n",
    "    for i in range(len(notMask)):\n",
    "        if notMask[i]:\n",
    "            circuit.x(a[i]);"
   ]
  },
  {
   "cell_type": "code",
   "execution_count": 29,
   "metadata": {},
   "outputs": [
    {
     "data": {
      "text/html": [
       "<pre style=\"word-wrap: normal;white-space: pre;background: #fff0;line-height: 1.1;font-family: &quot;Courier New&quot;,Courier,monospace\">        ┌───┐     ┌───┐┌───┐     ┌───┐\n",
       "a_0: |0>┤ X ├──■──┤ X ├┤ X ├──■──┤ X ├\n",
       "        └───┘  │  └───┘└───┘  │  └───┘\n",
       "a_1: |0>───────■──────────────■───────\n",
       "             ┌─┴─┐            │       \n",
       "b_0: |0>─────┤ X ├────────────┼───────\n",
       "             └───┘            │       \n",
       "b_1: |0>──────────────────────┼───────\n",
       "                            ┌─┴─┐     \n",
       "r_0: |0>────────────────────┤ X ├─────\n",
       "                            └───┘     </pre>"
      ],
      "text/plain": [
       "<qiskit.visualization.text.TextDrawing at 0x1a26c936d0>"
      ]
     },
     "execution_count": 29,
     "metadata": {},
     "output_type": "execute_result"
    }
   ],
   "source": [
    "n = 2\n",
    "\n",
    "simulator = Aer.get_backend('qasm_simulator')\n",
    "\n",
    "a = QuantumRegister(n, 'a')\n",
    "b = QuantumRegister(n, 'b')\n",
    "r = QuantumRegister(1, 'r')\n",
    "\n",
    "circuit = QuantumCircuit(a, b, r)\n",
    "\n",
    "a0 = 2\n",
    "xor_gate_v_each(circuit, a,b,r, 0,0,a0)\n",
    "xor_gate_f_each(circuit, a,b,r, 0,0,a0)\n",
    "circuit.draw()"
   ]
  },
  {
   "cell_type": "code",
   "execution_count": 5,
   "metadata": {},
   "outputs": [
    {
     "data": {
      "text/plain": [
       "5"
      ]
     },
     "execution_count": 5,
     "metadata": {},
     "output_type": "execute_result"
    }
   ],
   "source": [
    "len(a)"
   ]
  },
  {
   "cell_type": "code",
   "execution_count": 6,
   "metadata": {},
   "outputs": [
    {
     "data": {
      "text/plain": [
       "3"
      ]
     },
     "execution_count": 6,
     "metadata": {},
     "output_type": "execute_result"
    }
   ],
   "source": [
    "len(binary_it(4))"
   ]
  },
  {
   "cell_type": "code",
   "execution_count": 7,
   "metadata": {},
   "outputs": [
    {
     "name": "stdout",
     "output_type": "stream",
     "text": [
      "[0, 0, 1]\n",
      "[1, 1, 0]\n"
     ]
    }
   ],
   "source": [
    "binned = binary_it(4);\n",
    "print(binned)\n",
    "notbinned = invert(binned)\n",
    "print(notbinned)"
   ]
  },
  {
   "cell_type": "code",
   "execution_count": 21,
   "metadata": {},
   "outputs": [
    {
     "data": {
      "text/plain": [
       "[1]"
      ]
     },
     "execution_count": 21,
     "metadata": {},
     "output_type": "execute_result"
    }
   ],
   "source": [
    "binary_it(1)"
   ]
  },
  {
   "cell_type": "code",
   "execution_count": null,
   "metadata": {},
   "outputs": [],
   "source": []
  }
 ],
 "metadata": {
  "kernelspec": {
   "display_name": "Python 3",
   "language": "python",
   "name": "python3"
  },
  "language_info": {
   "codemirror_mode": {
    "name": "ipython",
    "version": 3
   },
   "file_extension": ".py",
   "mimetype": "text/x-python",
   "name": "python",
   "nbconvert_exporter": "python",
   "pygments_lexer": "ipython3",
   "version": "3.7.4"
  }
 },
 "nbformat": 4,
 "nbformat_minor": 2
}
