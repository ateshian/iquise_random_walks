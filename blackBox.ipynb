{
 "cells": [
  {
   "cell_type": "code",
   "execution_count": 30,
   "metadata": {},
   "outputs": [],
   "source": [
    "# Library for implementing XOR\n",
    "import qiskit\n",
    "import numpy as np\n",
    "from qiskit import(\n",
    "    IBMQ, QuantumCircuit, ClassicalRegister, QuantumRegister, execute,\n",
    "    QuantumCircuit,\n",
    "    execute,\n",
    "    Aer)\n",
    "from qiskit.visualization import plot_histogram, plot_state_city"
   ]
  },
  {
   "cell_type": "code",
   "execution_count": 31,
   "metadata": {},
   "outputs": [],
   "source": [
    "if __name__ == \"__main__\":\n",
    "    pass"
   ]
  },
  {
   "cell_type": "code",
   "execution_count": 32,
   "metadata": {},
   "outputs": [
    {
     "ename": "SyntaxError",
     "evalue": "invalid syntax (<ipython-input-32-414a9f8824cc>, line 36)",
     "output_type": "error",
     "traceback": [
      "\u001b[0;36m  File \u001b[0;32m\"<ipython-input-32-414a9f8824cc>\"\u001b[0;36m, line \u001b[0;32m36\u001b[0m\n\u001b[0;31m    elif len(a) > len(binaried)\u001b[0m\n\u001b[0m                               ^\u001b[0m\n\u001b[0;31mSyntaxError\u001b[0m\u001b[0;31m:\u001b[0m invalid syntax\n"
     ]
    }
   ],
   "source": [
    "def binary_it(alpha):\n",
    "    ''' binary_it:\n",
    "            returns a list that is indexed according to power,\n",
    "                binaried[0] = is LSB.\n",
    "    '''\n",
    "    binaried = [int(x) for x in bin(alpha)[2:]]\n",
    "    binaried.reverse()\n",
    "    return binaried\n",
    "    \n",
    "def xor_gate_v_each(circuit,   a,b,r,   f,c,a0):\n",
    "    ''' xor_gate_v_each:\n",
    "            See paper 'An Example of the Difference Between Quantum and Classical Random Walks'\n",
    "        \n",
    "            args:\n",
    "                circuit -- the py object that holds the quantum circuit.\n",
    "                \n",
    "                a -- q. reg. for the vertex.\n",
    "                b -- q. reg. for holding neighbor vertex.\n",
    "                r -- q. reg. for checking valid edge.\n",
    "                \n",
    "                f(c, a0) -- function that returns the neighboring\n",
    "                         -- vertex of a0 using label c for the vertex label.\n",
    "                c        -- label of the edge\n",
    "                a0       -- label of the vertex\n",
    "    '''\n",
    "    \n",
    "    #vc = f(c,a0);\n",
    "    \n",
    "    \n",
    "    #build in the not's for the a0 check.\n",
    "    binaried = binary_it(a0)\n",
    "        \n",
    "    #match binaried\n",
    "    if len(binaried) > len(a):\n",
    "        binaried = binaried[:len(a)]\n",
    "    elif len(a) > len(binaried)\n",
    "        for i in range(len(a)-len(binaried)):\n",
    "            binaried.append(0)\n",
    "    \n",
    "    print(binaried)\n",
    "    print(a)\n",
    "    \n",
    "    #build in the cnots for xoring b\n",
    "    \n",
    "    #build in the not's for the a0 return.\n",
    "    \n",
    "    \n",
    "\n",
    "# def increment_gate(circuit, qpos, qcoin):\n",
    "#     n = len(qpos)\n",
    "#     for i in range(n):\n",
    "#         circuit.mct([qcoin[0]]+qpos[i+1:], qpos[i], None, mode='noancilla')\n",
    "\n",
    "# def decrement_gate(circuit, qpos, qcoin):\n",
    "#     n = len(qpos)\n",
    "#     circuit.x(qcoin[0])\n",
    "#     for i in range(n):\n",
    "#         if i+1 < n: circuit.x(qpos[i+1:])\n",
    "#         circuit.mct([qcoin[0]]+qpos[i+1:], qpos[i], None, mode='noancilla')\n",
    "#         if i+1 < n: circuit.x(qpos[i+1:])\n",
    "\n",
    "# def step(circuit, qpos, qcoin):\n",
    "#     circuit.h(qcoin)\n",
    "#     circuit.barrier()\n",
    "#     increment_gate(circuit, qpos, qcoin)\n",
    "#     circuit.barrier()\n",
    "#     decrement_gate(circuit, qpos, qcoin)\n",
    "#     circuit.barrier()"
   ]
  },
  {
   "cell_type": "code",
   "execution_count": 33,
   "metadata": {},
   "outputs": [
    {
     "data": {
      "text/plain": [
       "[0, 1, 1]"
      ]
     },
     "execution_count": 33,
     "metadata": {},
     "output_type": "execute_result"
    }
   ],
   "source": [
    "binary_it(6)"
   ]
  },
  {
   "cell_type": "code",
   "execution_count": 34,
   "metadata": {},
   "outputs": [
    {
     "name": "stdout",
     "output_type": "stream",
     "text": [
      "0\n",
      "1\n",
      "2\n"
     ]
    },
    {
     "ename": "TypeError",
     "evalue": "'int' object is not callable",
     "output_type": "error",
     "traceback": [
      "\u001b[0;31m---------------------------------------------------------------------------\u001b[0m",
      "\u001b[0;31mTypeError\u001b[0m                                 Traceback (most recent call last)",
      "\u001b[0;32m<ipython-input-34-5b49491e3a97>\u001b[0m in \u001b[0;36m<module>\u001b[0;34m\u001b[0m\n\u001b[1;32m      4\u001b[0m \u001b[0ma\u001b[0m \u001b[0;34m=\u001b[0m \u001b[0mQuantumRegister\u001b[0m\u001b[0;34m(\u001b[0m\u001b[0;36m5\u001b[0m\u001b[0;34m)\u001b[0m\u001b[0;34m;\u001b[0m\u001b[0;34m\u001b[0m\u001b[0;34m\u001b[0m\u001b[0m\n\u001b[1;32m      5\u001b[0m \u001b[0ma0\u001b[0m\u001b[0;34m=\u001b[0m \u001b[0;36m4\u001b[0m\u001b[0;34m\u001b[0m\u001b[0;34m\u001b[0m\u001b[0m\n\u001b[0;32m----> 6\u001b[0;31m \u001b[0mxor_gate_v_each\u001b[0m\u001b[0;34m(\u001b[0m\u001b[0;36m0\u001b[0m\u001b[0;34m,\u001b[0m \u001b[0ma\u001b[0m\u001b[0;34m,\u001b[0m\u001b[0;36m0\u001b[0m\u001b[0;34m,\u001b[0m\u001b[0;36m0\u001b[0m\u001b[0;34m,\u001b[0m \u001b[0;36m0\u001b[0m\u001b[0;34m,\u001b[0m\u001b[0;36m0\u001b[0m\u001b[0;34m,\u001b[0m\u001b[0ma0\u001b[0m\u001b[0;34m)\u001b[0m\u001b[0;34m\u001b[0m\u001b[0;34m\u001b[0m\u001b[0m\n\u001b[0m",
      "\u001b[0;32m<ipython-input-15-0b7dfa2add62>\u001b[0m in \u001b[0;36mxor_gate_v_each\u001b[0;34m(circuit, a, b, r, f, c, a0)\u001b[0m\n\u001b[1;32m     21\u001b[0m     '''\n\u001b[1;32m     22\u001b[0m \u001b[0;34m\u001b[0m\u001b[0m\n\u001b[0;32m---> 23\u001b[0;31m     \u001b[0mvc\u001b[0m \u001b[0;34m=\u001b[0m \u001b[0mf\u001b[0m\u001b[0;34m(\u001b[0m\u001b[0mc\u001b[0m\u001b[0;34m,\u001b[0m\u001b[0ma0\u001b[0m\u001b[0;34m)\u001b[0m\u001b[0;34m;\u001b[0m\u001b[0;34m\u001b[0m\u001b[0;34m\u001b[0m\u001b[0m\n\u001b[0m\u001b[1;32m     24\u001b[0m \u001b[0;34m\u001b[0m\u001b[0m\n\u001b[1;32m     25\u001b[0m \u001b[0;34m\u001b[0m\u001b[0m\n",
      "\u001b[0;31mTypeError\u001b[0m: 'int' object is not callable"
     ]
    }
   ],
   "source": [
    "for i in range(3):\n",
    "    print(i)\n",
    "    \n",
    "a = QuantumRegister(5);\n",
    "a0= 4\n",
    "xor_gate_v_each(0, a,0,0, 0,0,a0)"
   ]
  },
  {
   "cell_type": "code",
   "execution_count": null,
   "metadata": {},
   "outputs": [],
   "source": []
  },
  {
   "cell_type": "code",
   "execution_count": null,
   "metadata": {},
   "outputs": [],
   "source": []
  },
  {
   "cell_type": "code",
   "execution_count": null,
   "metadata": {},
   "outputs": [],
   "source": []
  },
  {
   "cell_type": "code",
   "execution_count": null,
   "metadata": {},
   "outputs": [],
   "source": []
  }
 ],
 "metadata": {
  "kernelspec": {
   "display_name": "Python 3",
   "language": "python",
   "name": "python3"
  },
  "language_info": {
   "codemirror_mode": {
    "name": "ipython",
    "version": 3
   },
   "file_extension": ".py",
   "mimetype": "text/x-python",
   "name": "python",
   "nbconvert_exporter": "python",
   "pygments_lexer": "ipython3",
   "version": "3.7.4"
  }
 },
 "nbformat": 4,
 "nbformat_minor": 2
}
