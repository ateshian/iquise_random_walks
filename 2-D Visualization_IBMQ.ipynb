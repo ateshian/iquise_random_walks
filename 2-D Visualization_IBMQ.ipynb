{
 "cells": [
  {
   "cell_type": "code",
   "execution_count": 52,
   "metadata": {},
   "outputs": [
    {
     "name": "stderr",
     "output_type": "stream",
     "text": [
      "Credentials already present. Set overwrite=True to overwrite.\n",
      "Credentials are already in use. The existing account in the session will be replaced.\n"
     ]
    },
    {
     "data": {
      "text/plain": [
       "[<IBMQSimulator('ibmq_qasm_simulator') from IBMQ(hub='ibm-q', group='open', project='main')>,\n",
       " <IBMQBackend('ibmqx2') from IBMQ(hub='ibm-q', group='open', project='main')>,\n",
       " <IBMQBackend('ibmq_16_melbourne') from IBMQ(hub='ibm-q', group='open', project='main')>,\n",
       " <IBMQBackend('ibmq_vigo') from IBMQ(hub='ibm-q', group='open', project='main')>,\n",
       " <IBMQBackend('ibmq_ourense') from IBMQ(hub='ibm-q', group='open', project='main')>,\n",
       " <IBMQBackend('ibmq_london') from IBMQ(hub='ibm-q', group='open', project='main')>,\n",
       " <IBMQBackend('ibmq_burlington') from IBMQ(hub='ibm-q', group='open', project='main')>,\n",
       " <IBMQBackend('ibmq_essex') from IBMQ(hub='ibm-q', group='open', project='main')>,\n",
       " <IBMQBackend('ibmq_armonk') from IBMQ(hub='ibm-q', group='open', project='main')>]"
      ]
     },
     "execution_count": 52,
     "metadata": {},
     "output_type": "execute_result"
    }
   ],
   "source": [
    "import qiskit\n",
    "from qiskit import IBMQ\n",
    "IBMQ.save_account('INSERT YOUR TOKEN')\n",
    "\n",
    "IBMQ.load_account()\n",
    "IBMQ.providers()\n",
    "provider = IBMQ.get_provider(group='open') #check open servers\n",
    "provider.backends()"
   ]
  },
  {
   "cell_type": "code",
   "execution_count": null,
   "metadata": {},
   "outputs": [],
   "source": [
    "import numpy as np\n",
    "import time\n",
    "import networkx as nx\n",
    "import matplotlib.pyplot as plt\n",
    "import random\n",
    "from qiskit import (QuantumCircuit, QuantumRegister, ClassicalRegister, execute, Aer)\n",
    "%matplotlib qt"
   ]
  },
  {
   "cell_type": "code",
   "execution_count": 24,
   "metadata": {},
   "outputs": [
    {
     "name": "stderr",
     "output_type": "stream",
     "text": [
      "Credentials already present. Set overwrite=True to overwrite.\n"
     ]
    }
   ],
   "source": [
    "n=3\n",
    "steps = 2\n"
   ]
  },
  {
   "cell_type": "code",
   "execution_count": 40,
   "metadata": {},
   "outputs": [],
   "source": [
    "def counts_to_prob_2d(counts):\n",
    "    states = list(counts.keys())\n",
    "    state_counts = list(counts.values())\n",
    "    nshots = sum(state_counts)\n",
    "    n = int(len(states[0])/2)\n",
    "    def sep_xy(states):\n",
    "        # Separate x and y coordinates in state vector\n",
    "        states_x = [s[:n] for s in states]\n",
    "        states_y = [s[n:] for s in states]\n",
    "        states_x = np.array([int(s[::-1],2) for s in states_x])\n",
    "        states_y = np.array([int(s[::-1],2) for s in states_y])\n",
    "        return states_x, states_y\n",
    "    x,y = sep_xy(states)\n",
    "    # Create array of probability values\n",
    "    probabilities = np.zeros((2**n,2**n))\n",
    "    probabilities[x,y] = state_counts\n",
    "    probabilities /= nshots\n",
    "    return probabilities"
   ]
  },
  {
   "cell_type": "code",
   "execution_count": 49,
   "metadata": {},
   "outputs": [],
   "source": [
    "def increment_gate(circuit, qpos, qcoin):\n",
    "    n = len(qpos)\n",
    "    for i in range(n):\n",
    "        circuit.mct(qcoin[:]+qpos[i+1:], qpos[i], None, mode='noancilla')\n",
    "\n",
    "def decrement_gate(circuit, qpos, qcoin):\n",
    "    n = len(qpos)\n",
    "    for i in range(n):\n",
    "        if i+1 < n: circuit.x(qpos[i+1:])\n",
    "        circuit.mct(qcoin[:]+qpos[i+1:], qpos[i], None, mode='noancilla')\n",
    "        if i+1 < n: circuit.x(qpos[i+1:])\n",
    "\n",
    "def step(circuit, qpos, qcoin):\n",
    "    circuit.h(qcoin)\n",
    "    circuit.barrier()\n",
    "    # y operations\n",
    "    increment_gate(circuit, qpos[len(qpos)//2:], qcoin)\n",
    "    circuit.x(qcoin[0])\n",
    "    decrement_gate(circuit, qpos[len(qpos)//2:], qcoin)\n",
    "    # x operations\n",
    "    circuit.x(qcoin)\n",
    "    increment_gate(circuit, qpos[:len(qpos)//2], qcoin)\n",
    "    circuit.x(qcoin[0])\n",
    "    decrement_gate(circuit, qpos[:len(qpos)//2:], qcoin)\n",
    "    circuit.barrier()\n",
    "    \n",
    "def run(steps):\n",
    "    #simulator = Aer.get_backend('ibmq_london')\n",
    "    simulator = provider.get_backend('ibmq_16_melbourne')\n",
    "    qpos = QuantumRegister(2*n,'qc')\n",
    "    qcoin = QuantumRegister(2,'qanc')\n",
    "    cpos = ClassicalRegister(2*n,'cr')\n",
    "    circuit = QuantumCircuit(qpos, qcoin, cpos)\n",
    "    for i in range(steps):\n",
    "        step(circuit, qpos, qcoin)\n",
    "    # # Map the quantum measurement to the classical bits\n",
    "    circuit.measure(qpos,cpos)\n",
    "    # # Execute the circuit on the qasm simulator\n",
    "    job = execute(circuit, simulator, shots=1000)\n",
    "    # # Grab results from the job\n",
    "    result = job.result()\n",
    "    # # Returns counts\n",
    "    counts = result.get_counts(circuit)\n",
    "    return counts"
   ]
  },
  {
   "cell_type": "code",
   "execution_count": 50,
   "metadata": {},
   "outputs": [],
   "source": [
    "seed = 12\n",
    "random.seed(seed)\n",
    "np.random.seed(seed)\n",
    "def plotSquareGraph(propMat):\n",
    "    colorarray = []\n",
    "    # generate array of colors\n",
    "    numProp = len(propMat)\n",
    "    for idx in range(numProp):\n",
    "        for jdx in range(numProp):\n",
    "            colorarray.append([1-propMat[idx][jdx],1-propMat[idx][jdx],1])\n",
    "    G = nx.grid_2d_graph(numProp, numProp)  # 5x5 grid\n",
    "    # print the adjacency list\n",
    "    for line in nx.generate_adjlist(G):\n",
    "        pass\n",
    "    # write edgelist to grid.edgelist\n",
    "    nx.write_edgelist(G, path=\"grid.edgelist\", delimiter=\":\")\n",
    "    nx.draw(G,node_color = colorarray,cmap=plt.cm.Blues)\n",
    "    plt.plot()"
   ]
  },
  {
   "cell_type": "code",
   "execution_count": 51,
   "metadata": {},
   "outputs": [
    {
     "ename": "IBMQJobFailureError",
     "evalue": "'Unable to retrieve job result. Job has failed. Use job.error_message() to get more details.'",
     "output_type": "error",
     "traceback": [
      "\u001b[0;31m---------------------------------------------------------------------------\u001b[0m",
      "\u001b[0;31mIBMQJobFailureError\u001b[0m                       Traceback (most recent call last)",
      "\u001b[0;32m<ipython-input-51-4e00907c580a>\u001b[0m in \u001b[0;36m<module>\u001b[0;34m\u001b[0m\n\u001b[1;32m      1\u001b[0m \u001b[0;32mfor\u001b[0m \u001b[0mi\u001b[0m \u001b[0;32min\u001b[0m \u001b[0mrange\u001b[0m\u001b[0;34m(\u001b[0m\u001b[0msteps\u001b[0m\u001b[0;34m+\u001b[0m\u001b[0;36m1\u001b[0m\u001b[0;34m)\u001b[0m\u001b[0;34m:\u001b[0m\u001b[0;34m\u001b[0m\u001b[0;34m\u001b[0m\u001b[0m\n\u001b[0;32m----> 2\u001b[0;31m     \u001b[0mcounts\u001b[0m \u001b[0;34m=\u001b[0m \u001b[0mrun\u001b[0m\u001b[0;34m(\u001b[0m\u001b[0mi\u001b[0m\u001b[0;34m)\u001b[0m\u001b[0;34m\u001b[0m\u001b[0;34m\u001b[0m\u001b[0m\n\u001b[0m\u001b[1;32m      3\u001b[0m     \u001b[0mprop\u001b[0m \u001b[0;34m=\u001b[0m \u001b[0mcounts_to_prob_2d\u001b[0m\u001b[0;34m(\u001b[0m\u001b[0mcounts\u001b[0m\u001b[0;34m)\u001b[0m\u001b[0;34m\u001b[0m\u001b[0;34m\u001b[0m\u001b[0m\n\u001b[1;32m      4\u001b[0m     \u001b[0mplt\u001b[0m\u001b[0;34m.\u001b[0m\u001b[0mclose\u001b[0m\u001b[0;34m(\u001b[0m\u001b[0;34m)\u001b[0m\u001b[0;34m\u001b[0m\u001b[0;34m\u001b[0m\u001b[0m\n\u001b[1;32m      5\u001b[0m     \u001b[0mplt\u001b[0m\u001b[0;34m.\u001b[0m\u001b[0mimshow\u001b[0m\u001b[0;34m(\u001b[0m\u001b[0mprop\u001b[0m\u001b[0;34m)\u001b[0m\u001b[0;34m\u001b[0m\u001b[0;34m\u001b[0m\u001b[0m\n",
      "\u001b[0;32m<ipython-input-49-59452bb4c52f>\u001b[0m in \u001b[0;36mrun\u001b[0;34m(steps)\u001b[0m\n\u001b[1;32m     39\u001b[0m     \u001b[0mjob\u001b[0m \u001b[0;34m=\u001b[0m \u001b[0mexecute\u001b[0m\u001b[0;34m(\u001b[0m\u001b[0mcircuit\u001b[0m\u001b[0;34m,\u001b[0m \u001b[0msimulator\u001b[0m\u001b[0;34m,\u001b[0m \u001b[0mshots\u001b[0m\u001b[0;34m=\u001b[0m\u001b[0;36m1000\u001b[0m\u001b[0;34m)\u001b[0m\u001b[0;34m\u001b[0m\u001b[0;34m\u001b[0m\u001b[0m\n\u001b[1;32m     40\u001b[0m     \u001b[0;31m# # Grab results from the job\u001b[0m\u001b[0;34m\u001b[0m\u001b[0;34m\u001b[0m\u001b[0;34m\u001b[0m\u001b[0m\n\u001b[0;32m---> 41\u001b[0;31m     \u001b[0mresult\u001b[0m \u001b[0;34m=\u001b[0m \u001b[0mjob\u001b[0m\u001b[0;34m.\u001b[0m\u001b[0mresult\u001b[0m\u001b[0;34m(\u001b[0m\u001b[0;34m)\u001b[0m\u001b[0;34m\u001b[0m\u001b[0;34m\u001b[0m\u001b[0m\n\u001b[0m\u001b[1;32m     42\u001b[0m     \u001b[0;31m# # Returns counts\u001b[0m\u001b[0;34m\u001b[0m\u001b[0;34m\u001b[0m\u001b[0;34m\u001b[0m\u001b[0m\n\u001b[1;32m     43\u001b[0m     \u001b[0mcounts\u001b[0m \u001b[0;34m=\u001b[0m \u001b[0mresult\u001b[0m\u001b[0;34m.\u001b[0m\u001b[0mget_counts\u001b[0m\u001b[0;34m(\u001b[0m\u001b[0mcircuit\u001b[0m\u001b[0;34m)\u001b[0m\u001b[0;34m\u001b[0m\u001b[0;34m\u001b[0m\u001b[0m\n",
      "\u001b[0;32m~/opt/anaconda3/envs/iquisehack/lib/python3.7/site-packages/qiskit/providers/ibmq/job/ibmqjob.py\u001b[0m in \u001b[0;36mresult\u001b[0;34m(self, timeout, wait, partial, refresh)\u001b[0m\n\u001b[1;32m    245\u001b[0m \u001b[0;34m\u001b[0m\u001b[0m\n\u001b[1;32m    246\u001b[0m             \u001b[0;32mif\u001b[0m \u001b[0mself\u001b[0m\u001b[0;34m.\u001b[0m\u001b[0m_status\u001b[0m \u001b[0;32mis\u001b[0m \u001b[0mJobStatus\u001b[0m\u001b[0;34m.\u001b[0m\u001b[0mERROR\u001b[0m \u001b[0;32mand\u001b[0m \u001b[0;32mnot\u001b[0m \u001b[0mpartial\u001b[0m\u001b[0;34m:\u001b[0m\u001b[0;34m\u001b[0m\u001b[0;34m\u001b[0m\u001b[0m\n\u001b[0;32m--> 247\u001b[0;31m                 raise IBMQJobFailureError('Unable to retrieve job result. Job has failed. '\n\u001b[0m\u001b[1;32m    248\u001b[0m                                           'Use job.error_message() to get more details.')\n\u001b[1;32m    249\u001b[0m \u001b[0;34m\u001b[0m\u001b[0m\n",
      "\u001b[0;31mIBMQJobFailureError\u001b[0m: 'Unable to retrieve job result. Job has failed. Use job.error_message() to get more details.'"
     ]
    }
   ],
   "source": [
    "for i in range(steps+1):\n",
    "    counts = run(i)\n",
    "    prop = counts_to_prob_2d(counts)\n",
    "    plt.close()\n",
    "    plt.imshow(prop)\n",
    "#     plotSquareGraph(prop)\n",
    "    plt.pause(1/steps)"
   ]
  },
  {
   "cell_type": "code",
   "execution_count": null,
   "metadata": {},
   "outputs": [],
   "source": []
  },
  {
   "cell_type": "code",
   "execution_count": null,
   "metadata": {},
   "outputs": [],
   "source": []
  }
 ],
 "metadata": {
  "kernelspec": {
   "display_name": "Python 3",
   "language": "python",
   "name": "python3"
  },
  "language_info": {
   "codemirror_mode": {
    "name": "ipython",
    "version": 3
   },
   "file_extension": ".py",
   "mimetype": "text/x-python",
   "name": "python",
   "nbconvert_exporter": "python",
   "pygments_lexer": "ipython3",
   "version": "3.7.6"
  }
 },
 "nbformat": 4,
 "nbformat_minor": 2
}
