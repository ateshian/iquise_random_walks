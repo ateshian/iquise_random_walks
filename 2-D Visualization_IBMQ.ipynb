{
 "cells": [
  {
   "cell_type": "code",
   "execution_count": 8,
   "metadata": {},
   "outputs": [],
   "source": [
    "import qiskit\n",
    "from qiskit import IBMQ\n",
    "from qiskit.tools.monitor import job_monitor\n",
    "IBMQ.load_account()\n",
    "IBMQ.providers()\n",
    "provider = IBMQ.get_provider(group='open') #check open servers"
   ]
  },
  {
   "cell_type": "code",
   "execution_count": 140,
   "metadata": {},
   "outputs": [],
   "source": [
    "import numpy as np\n",
    "import time\n",
    "import networkx as nx\n",
    "import matplotlib.pyplot as plt\n",
    "import random\n",
    "from qiskit import (QuantumCircuit, QuantumRegister, ClassicalRegister, execute, Aer)\n",
    "from matplotlib import cm\n",
    "%matplotlib inline"
   ]
  },
  {
   "cell_type": "code",
   "execution_count": 119,
   "metadata": {},
   "outputs": [],
   "source": [
    "def counts_to_prob_2d(counts):\n",
    "    states = list(counts.keys())\n",
    "    state_counts = list(counts.values())\n",
    "    nshots = sum(state_counts)\n",
    "    n = int(len(states[0])/2)\n",
    "    def sep_xy(states):\n",
    "        # Separate x and y coordinates in state vector\n",
    "        states_x = [s[:n] for s in states]\n",
    "        states_y = [s[n:] for s in states]\n",
    "        states_x = np.array([int(s[::-1],2) for s in states_x])\n",
    "        states_y = np.array([int(s[::-1],2) for s in states_y])\n",
    "        return states_x, states_y\n",
    "    x,y = sep_xy(states)\n",
    "    # Create array of probability values\n",
    "    probabilities = np.zeros((2**n,2**n))\n",
    "    probabilities[x,y] = state_counts\n",
    "    probabilities /= nshots\n",
    "    return probabilities"
   ]
  },
  {
   "cell_type": "code",
   "execution_count": 143,
   "metadata": {},
   "outputs": [],
   "source": [
    "def increment_gate(circuit, qpos, qcoin):\n",
    "    n = len(qpos)\n",
    "    for i in range(n):\n",
    "        circuit.mct(qcoin[:]+qpos[i+1:], qpos[i], None, mode='noancilla')\n",
    "\n",
    "def decrement_gate(circuit, qpos, qcoin):\n",
    "    n = len(qpos)\n",
    "    for i in range(n):\n",
    "        if i+1 < n: circuit.x(qpos[i+1:])\n",
    "        circuit.mct(qcoin[:]+qpos[i+1:], qpos[i], None, mode='noancilla')\n",
    "        if i+1 < n: circuit.x(qpos[i+1:])\n",
    "\n",
    "def step(circuit, qpos, qcoin, cpos, simulatorType):\n",
    "    circuit.h(qcoin)\n",
    "    circuit.barrier()\n",
    "    # y operations\n",
    "    increment_gate(circuit, qpos[len(qpos)//2:], qcoin)\n",
    "    circuit.x(qcoin[0])\n",
    "    decrement_gate(circuit, qpos[len(qpos)//2:], qcoin)\n",
    "    # x operations\n",
    "    circuit.x(qcoin)\n",
    "    increment_gate(circuit, qpos[:len(qpos)//2], qcoin)\n",
    "    circuit.x(qcoin[0])\n",
    "    decrement_gate(circuit, qpos[:len(qpos)//2:], qcoin)\n",
    "    circuit.barrier()\n",
    "    if simulatorType == 'classical':\n",
    "        circuit.measure(qpos,cpos)\n",
    "    \n",
    "def initialize_2D(circuit, n, pos):\n",
    "    # convert position to binary\n",
    "    formatLabel = '{0:0'+str(n)+'b}'\n",
    "    x = formatLabel.format(pos[0])\n",
    "    y = formatLabel.format(pos[1])\n",
    "    for i in range(len(x)):\n",
    "        if x[i]=='1': \n",
    "            circuit.x((n-i)-1)\n",
    "    for j in range(len(y)):\n",
    "        if y[j]=='1': \n",
    "            circuit.x((2*n-j)-1)\n",
    "    return circuit\n",
    "    \n",
    "def run(steps,simulatorType):\n",
    "    # steps = number of quantum walks steps\n",
    "    # simulatorType = 'sim', 'quantum' or 'classical'\n",
    "    \n",
    "    if simulatorType == 'sim':\n",
    "        simulator = Aer.get_backend('qasm_simulator')\n",
    "    elif simulatorType == 'quantum':\n",
    "        simulator = provider.get_backend('ibmq_16_melbourne')\n",
    "    elif simulatorType == 'classical':\n",
    "        simulator = Aer.get_backend('qasm_simulator')\n",
    "    else:\n",
    "        simulator = Aer.get_backend('qasm_simulator')\n",
    "        \n",
    "    qpos = QuantumRegister(2*n,'qc')\n",
    "    qcoin = QuantumRegister(2,'qanc')\n",
    "    cpos = ClassicalRegister(2*n,'cr')\n",
    "    circuit = QuantumCircuit(qpos, qcoin, cpos)\n",
    "    circuit = initialize_2D(circuit, n, [round(n/2),round(n/2)])\n",
    "    for i in range(steps):\n",
    "        step(circuit, qpos, qcoin, cpos, simulatorType)\n",
    "    # # Map the quantum measurement to the classical bits\n",
    "    circuit.measure(qpos,cpos)\n",
    "    # # Execute the circuit on the qasm simulator\n",
    "    job = execute(circuit, simulator, shots=1000)\n",
    "    # monitor job\n",
    "    job_monitor(job)\n",
    "    # # Grab results from the job\n",
    "    result = job.result()\n",
    "    # # Returns counts\n",
    "    counts = result.get_counts(circuit)\n",
    "    return counts"
   ]
  },
  {
   "cell_type": "code",
   "execution_count": 135,
   "metadata": {},
   "outputs": [],
   "source": [
    "seed = 12\n",
    "random.seed(seed)\n",
    "np.random.seed(seed)\n",
    "def plotSquareGraph(propMat):\n",
    "    colorarray = []\n",
    "    # generate array of colors\n",
    "    numProp = len(propMat)\n",
    "    for idx in range(numProp):\n",
    "        for jdx in range(numProp):\n",
    "            colorarray.append([1-propMat[idx][jdx],1-propMat[idx][jdx],1])\n",
    "    G = nx.grid_2d_graph(numProp, numProp)  # 5x5 grid\n",
    "    # print the adjacency list\n",
    "    for line in nx.generate_adjlist(G):\n",
    "        pass\n",
    "    # write edgelist to grid.edgelist\n",
    "    nx.write_edgelist(G, path=\"grid.edgelist\", delimiter=\":\")\n",
    "    nx.draw(G,node_color = colorarray,cmap=plt.cm.Blues)\n",
    "    plt.plot()"
   ]
  },
  {
   "cell_type": "code",
   "execution_count": null,
   "metadata": {},
   "outputs": [
    {
     "name": "stdout",
     "output_type": "stream",
     "text": [
      "Job Status: job has successfully run\n",
      "Job Status: job has successfully run\n",
      "Job Status: job has successfully run\n"
     ]
    },
    {
     "data": {
      "image/png": "[encoded data removed]",
      "text/plain": [
       "<Figure size 936x576 with 3 Axes>"
      ]
     },
     "metadata": {
      "needs_background": "light"
     },
     "output_type": "display_data"
    },
    {
     "name": "stdout",
     "output_type": "stream",
     "text": [
      "Job Status: job has successfully run\n",
      "Job Status: job has successfully run\n",
      "Job Status: job has successfully run\n"
     ]
    },
    {
     "data": {
      "image/png": "[encoded data removed]",
      "text/plain": [
       "<Figure size 936x576 with 3 Axes>"
      ]
     },
     "metadata": {
      "needs_background": "light"
     },
     "output_type": "display_data"
    },
    {
     "name": "stdout",
     "output_type": "stream",
     "text": [
      "Job Status: job has successfully run\n",
      "Job Status: job has successfully run\n",
      "Job Status: job is queued (4)     "
     ]
    }
   ],
   "source": [
    "n=2\n",
    "steps = 3\n",
    "\n",
    "for i in range(steps+1):\n",
    "    #run classical random walk\n",
    "    countsClassical = run(i,'classical')\n",
    "    propClassical = counts_to_prob_2d(countsClassical)\n",
    "    #run quantum simulation\n",
    "    countsSim = run(i,'sim')\n",
    "    propSim = counts_to_prob_2d(countsSim)\n",
    "    #run the real thing\n",
    "    countsQuantum = run(i,'quantum')\n",
    "    propQuantum = counts_to_prob_2d(countsQuantum)\n",
    "    \n",
    "    \n",
    "    #plotting\n",
    "    names = []\n",
    "    values = []\n",
    "    formatLabel = '{0:0'+str(n)+'b}'\n",
    "    for idx in range(2**n):\n",
    "        names.append('|' + formatLabel.format(idx) +'>')\n",
    "        values.append(idx)\n",
    "\n",
    "    f, axs = plt.subplots(1,3,figsize=(13,8))\n",
    "    margin=0.4\n",
    "    f.subplots_adjust(margin, margin, 1.-margin, 1.-margin)\n",
    "    axs[0].set_title('classical random walk')\n",
    "    plt.sca(axs[0])\n",
    "    plt.imshow(propClassical,cmap=plt.get_cmap('Reds'))\n",
    "    plt.xticks(rotation=45)\n",
    "    axs[0].set_xticks(values)\n",
    "    axs[0].set_xticklabels(names)\n",
    "    plt.xlim(-0.5,values[-1]+0.5) \n",
    "    axs[0].set_yticks(values)\n",
    "    axs[0].set_yticklabels(names)\n",
    "    plt.ylim(-0.5,values[-1]+0.5) \n",
    "\n",
    "    axs[1].set_title('simulated quantum walk')\n",
    "    plt.sca(axs[1])\n",
    "    plt.imshow(propSim,cmap=plt.get_cmap('Greens'))\n",
    "    plt.xticks(rotation=45)\n",
    "    axs[1].set_xticks(values)\n",
    "    axs[1].set_xticklabels(names)\n",
    "    plt.xlim(-0.5,values[-1]+0.5) \n",
    "    axs[1].set_yticks(values)\n",
    "    axs[1].set_yticklabels(names)\n",
    "    plt.ylim(-0.5,values[-1]+0.5) \n",
    "\n",
    "    axs[2].set_title('IBM quantum walk')\n",
    "    plt.sca(axs[2])\n",
    "    plt.imshow(propQuantum,cmap=plt.get_cmap('Blues'))\n",
    "    plt.xticks(rotation=45)\n",
    "    axs[2].set_xticks(values)\n",
    "    axs[2].set_xticklabels(names)\n",
    "    plt.xlim(-0.5,values[-1]+0.5) \n",
    "    axs[2].set_yticks(values)\n",
    "    axs[2].set_yticklabels(names)\n",
    "    plt.ylim(-0.5,values[-1]+0.5) \n",
    "\n",
    "    plt.tight_layout()\n",
    "    plt.show()\n",
    "    \n",
    "    "
   ]
  },
  {
   "cell_type": "code",
   "execution_count": null,
   "metadata": {},
   "outputs": [],
   "source": []
  },
  {
   "cell_type": "code",
   "execution_count": null,
   "metadata": {},
   "outputs": [],
   "source": []
  }
 ],
 "metadata": {
  "kernelspec": {
   "display_name": "Python 3",
   "language": "python",
   "name": "python3"
  },
  "language_info": {
   "codemirror_mode": {
    "name": "ipython",
    "version": 3
   },
   "file_extension": ".py",
   "mimetype": "text/x-python",
   "name": "python",
   "nbconvert_exporter": "python",
   "pygments_lexer": "ipython3",
   "version": "3.7.4"
  }
 },
 "nbformat": 4,
 "nbformat_minor": 2
}
